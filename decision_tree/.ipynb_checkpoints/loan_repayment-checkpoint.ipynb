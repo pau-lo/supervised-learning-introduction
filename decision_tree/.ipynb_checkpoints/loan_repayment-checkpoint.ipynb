{
 "cells": [
  {
   "cell_type": "markdown",
   "metadata": {},
   "source": [
    "# loan repayment prediction"
   ]
  },
  {
   "cell_type": "code",
   "execution_count": 1,
   "metadata": {},
   "outputs": [],
   "source": [
    "import numpy as np\n",
    "import pandas as pd\n",
    "\n",
    "from sklearn.model_selection import train_test_split\n",
    "from sklearn.metrics import accuracy_score\n",
    "\n",
    "from sklearn.tree import DecisionTreeClassifier\n",
    "from sklearn import tree\n",
    "\n"
   ]
  },
  {
   "cell_type": "code",
   "execution_count": 3,
   "metadata": {},
   "outputs": [
    {
     "name": "stdout",
     "output_type": "stream",
     "text": [
      "Dataset shape:  (23000, 25)\n",
      "Unnamed: 0    object\n",
      "X1            object\n",
      "X2            object\n",
      "X3            object\n",
      "X4            object\n",
      "X5            object\n",
      "X6            object\n",
      "X7            object\n",
      "X8            object\n",
      "X9            object\n",
      "X10           object\n",
      "X11           object\n",
      "X12           object\n",
      "X13           object\n",
      "X14           object\n",
      "X15           object\n",
      "X16           object\n",
      "X17           object\n",
      "X18           object\n",
      "X19           object\n",
      "X20           object\n",
      "X21           object\n",
      "X22           object\n",
      "X23           object\n",
      "Y             object\n",
      "dtype: object\n"
     ]
    }
   ],
   "source": [
    "    # load dataset\n",
    "\n",
    "    df = pd.read_csv(\"../../data/Loan-data.csv\")\n",
    "    # df.drop([])\n",
    "    # in case want to see dastaset\n",
    "    print(\"Dataset shape: \", df.shape)\n",
    "    print(df.dtypes)\n",
    "    # print(df.head())\n",
    "    # print(df.columns)"
   ]
  },
  {
   "cell_type": "code",
   "execution_count": 4,
   "metadata": {},
   "outputs": [],
   "source": [
    "# split into train/test\n",
    "X = df.iloc[:, 1:24]\n",
    "# print(X)\n",
    "y = df.iloc[:, 24]\n",
    "# print(y)\n",
    "    \n",
    "X_train, X_test, y_train, y_test = train_test_split(X, y, test_size=.3, random_state=0)\n"
   ]
  },
  {
   "cell_type": "code",
   "execution_count": null,
   "metadata": {},
   "outputs": [],
   "source": [
    "# load the classifier\n",
    "clf = DecisionTreeClassifier(criterion=\"entropy\", random_state=0,\n",
    "                             max_depth=3, min_samples_leaf=5)\n",
    "\n",
    "# fit and predict the train data in the model\n",
    "clf.fit(X_train, y_train)"
   ]
  },
  {
   "cell_type": "code",
   "execution_count": null,
   "metadata": {},
   "outputs": [],
   "source": []
  },
  {
   "cell_type": "code",
   "execution_count": null,
   "metadata": {},
   "outputs": [],
   "source": []
  },
  {
   "cell_type": "code",
   "execution_count": null,
   "metadata": {},
   "outputs": [],
   "source": []
  },
  {
   "cell_type": "code",
   "execution_count": null,
   "metadata": {},
   "outputs": [],
   "source": []
  },
  {
   "cell_type": "code",
   "execution_count": null,
   "metadata": {},
   "outputs": [],
   "source": []
  },
  {
   "cell_type": "code",
   "execution_count": null,
   "metadata": {},
   "outputs": [],
   "source": []
  },
  {
   "cell_type": "code",
   "execution_count": null,
   "metadata": {},
   "outputs": [],
   "source": []
  },
  {
   "cell_type": "code",
   "execution_count": null,
   "metadata": {},
   "outputs": [],
   "source": []
  },
  {
   "cell_type": "code",
   "execution_count": null,
   "metadata": {},
   "outputs": [],
   "source": []
  }
 ],
 "metadata": {
  "kernelspec": {
   "display_name": "Python 3",
   "language": "python",
   "name": "python3"
  },
  "language_info": {
   "codemirror_mode": {
    "name": "ipython",
    "version": 3
   },
   "file_extension": ".py",
   "mimetype": "text/x-python",
   "name": "python",
   "nbconvert_exporter": "python",
   "pygments_lexer": "ipython3",
   "version": "3.7.4"
  }
 },
 "nbformat": 4,
 "nbformat_minor": 4
}
